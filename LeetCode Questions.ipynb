{
 "cells": [
  {
   "cell_type": "markdown",
   "metadata": {},
   "source": [
    "# 1. Two Sum (Easy)\n",
    "\n",
    "Given an array of integers nums and an integer target, return indices of the two numbers such that they add up to target.\n",
    "\n",
    "You may assume that each input would have exactly one solution, and you may not use the same element twice.\n",
    "\n",
    "You can return the answer in any order\n",
    "\n",
    "\n",
    "\n",
    "\n",
    "\n",
    "Example 1:\n",
    "\n",
    "Input: nums = [2,7,11,15], target = 9\n",
    "Output: [0,1]\n",
    "Explanation: Because nums[0] + nums[1] == 9, we return [0, 1].\n",
    "Example 2:\n",
    "\n",
    "Input: nums = [3,2,4], target = 6\n",
    "Output: [1,2]\n",
    "Example 3:\n",
    "\n",
    "Input: nums = [3,3], target = 6\n",
    "Output: [0,1]"
   ]
  },
  {
   "cell_type": "code",
   "execution_count": 4,
   "metadata": {},
   "outputs": [],
   "source": [
    "def twoSum(arr, target):\n",
    "    for i, num in enumerate(nums):\n",
    "        num_found = target - num\n",
    "        if num_found in nums and i != nums.index(num_found):\n",
    "            return [i, nums.index(num_found)]\n",
    "    "
   ]
  },
  {
   "cell_type": "code",
   "execution_count": null,
   "metadata": {},
   "outputs": [],
   "source": []
  },
  {
   "attachments": {
    "image.png": {
     "image/png": "[encoded data removed]"
    }
   },
   "cell_type": "markdown",
   "metadata": {},
   "source": [
    "# 2 Reverse Linked List\n",
    "\n",
    "Given the head of a singly linked list, reverse the list, and return the reversed list.\n",
    "\n",
    "Example 1:\n",
    "\n",
    "![image.png](attachment:image.png)\n",
    "\n",
    "Input: head = [1,2,3,4,5]\n",
    "Output: [5,4,3,2,1]"
   ]
  },
  {
   "cell_type": "code",
   "execution_count": 3,
   "metadata": {},
   "outputs": [],
   "source": [
    "def reverseList(head):\n",
    "    prev = None\n",
    "    curr = head\n",
    "    while curr:\n",
    "        temp = curr.next\n",
    "        curr.next = prev\n",
    "        prev = curr\n",
    "        curr = temp\n",
    "    return prev"
   ]
  },
  {
   "cell_type": "code",
   "execution_count": null,
   "metadata": {},
   "outputs": [],
   "source": []
  },
  {
   "cell_type": "markdown",
   "metadata": {},
   "source": [
    "# 3) Find the second minimum in an array "
   ]
  },
  {
   "cell_type": "code",
   "execution_count": 5,
   "metadata": {},
   "outputs": [],
   "source": [
    "def secondMin(arr):\n",
    "    min1 = min(arr)\n",
    "    min2 = float(\"inf\")\n",
    "\n",
    "    for i in range (len(arr)):\n",
    "        if arr[i] < min2 and arr[i] > min1:\n",
    "            min2 = arr[i]\n",
    "    \n",
    "    return min2"
   ]
  },
  {
   "cell_type": "code",
   "execution_count": 6,
   "metadata": {},
   "outputs": [
    {
     "data": {
      "text/plain": [
       "2"
      ]
     },
     "execution_count": 6,
     "metadata": {},
     "output_type": "execute_result"
    }
   ],
   "source": [
    "(secondMin([-1,5,6,2,-1,3]))"
   ]
  },
  {
   "cell_type": "code",
   "execution_count": null,
   "metadata": {},
   "outputs": [],
   "source": []
  },
  {
   "cell_type": "markdown",
   "metadata": {},
   "source": [
    "# 4)  Given a 2-D String array of student-marks find the student with the highest average and output his average score.  If the average is in decimals, floor it down to the nearest integer."
   ]
  },
  {
   "cell_type": "code",
   "execution_count": null,
   "metadata": {},
   "outputs": [],
   "source": []
  },
  {
   "cell_type": "code",
   "execution_count": 9,
   "metadata": {},
   "outputs": [],
   "source": [
    "def highestAverage(arr):\n",
    "    avg_dic = {}\n",
    "    for dic in (arr):\n",
    "        key, value = dic[0], dic[1]  \n",
    "        if key in avg_dic:\n",
    "            avg_dic[key].append(int(value))\n",
    "        else:\n",
    "            avg_dic[key] = [int(value)]\n",
    "\n",
    "    max_avg = 0\n",
    "\n",
    "    for grades in avg_dic.values():\n",
    "        max_avg = max( max_avg, sum(grades)/len(grades))\n",
    "\n",
    "    return max_avg"
   ]
  },
  {
   "cell_type": "code",
   "execution_count": 10,
   "metadata": {},
   "outputs": [
    {
     "data": {
      "text/plain": [
       "99.0"
      ]
     },
     "execution_count": 10,
     "metadata": {},
     "output_type": "execute_result"
    }
   ],
   "source": [
    "arr = [[\"Bob\",\"87\"], [\"Mike\", \"35\"],[\"Bob\", \"52\"], [\"Jason\",\"35\"], [\"Mike\", \"55\"], [\"Jessica\", \"99\"]]\n",
    "highestAverage(arr)"
   ]
  },
  {
   "cell_type": "code",
   "execution_count": null,
   "metadata": {},
   "outputs": [],
   "source": []
  },
  {
   "cell_type": "markdown",
   "metadata": {},
   "source": [
    "# 5) Power of 10"
   ]
  },
  {
   "cell_type": "code",
   "execution_count": 18,
   "metadata": {},
   "outputs": [],
   "source": [
    "def powTen(num):\n",
    "    \n",
    "    while num < 1 and num >0:\n",
    "        num*=10\n",
    "    while num >= 10:\n",
    "        num//=10\n",
    "    return num ==1"
   ]
  },
  {
   "cell_type": "code",
   "execution_count": 19,
   "metadata": {},
   "outputs": [
    {
     "data": {
      "text/plain": [
       "True"
      ]
     },
     "execution_count": 19,
     "metadata": {},
     "output_type": "execute_result"
    }
   ],
   "source": [
    "powTen(0.1)"
   ]
  },
  {
   "cell_type": "code",
   "execution_count": null,
   "metadata": {},
   "outputs": [],
   "source": []
  },
  {
   "cell_type": "markdown",
   "metadata": {},
   "source": [
    "# 6) Best time to buy and sell stock\n"
   ]
  },
  {
   "cell_type": "code",
   "execution_count": null,
   "metadata": {},
   "outputs": [],
   "source": [
    " def maxProfit(prices):\n",
    "        mini = prices[0]\n",
    "        max_prof = 0\n",
    "        for i in range(1, len(prices)):\n",
    "            mini = min(mini, prices[i])\n",
    "            max_prof = max(max_prof, prices[i]- mini)\n",
    "        \n",
    "        return max_prof if max_prof > 0 else 0"
   ]
  },
  {
   "cell_type": "code",
   "execution_count": null,
   "metadata": {},
   "outputs": [],
   "source": []
  },
  {
   "cell_type": "markdown",
   "metadata": {},
   "source": [
    "# 7)  Contains Duplitcates\n",
    "\n",
    "Given an integer array nums, return true if any value appears at least twice in the array, and return false if every element is distinct.\n",
    "\n",
    "Example 1:\n",
    "\n",
    "Input: nums = [1,2,3,1]\n",
    "Output: true\n",
    "Example 2:\n",
    "\n",
    "Input: nums = [1,2,3,4]\n",
    "Output: false\n",
    "Example 3:\n",
    "\n",
    "Input: nums = [1,1,1,3,3,4,3,2,4,2]\n",
    "Output: true"
   ]
  },
  {
   "cell_type": "code",
   "execution_count": 22,
   "metadata": {},
   "outputs": [],
   "source": [
    "def containsDup(arr):\n",
    "    return len(arr) != len(set(arr))"
   ]
  },
  {
   "cell_type": "code",
   "execution_count": 24,
   "metadata": {},
   "outputs": [
    {
     "data": {
      "text/plain": [
       "False"
      ]
     },
     "execution_count": 24,
     "metadata": {},
     "output_type": "execute_result"
    }
   ],
   "source": [
    "arr = [1,2,3,4] \n",
    "containsDup(arr)"
   ]
  },
  {
   "cell_type": "code",
   "execution_count": null,
   "metadata": {},
   "outputs": [],
   "source": []
  },
  {
   "cell_type": "markdown",
   "metadata": {},
   "source": [
    "# 8) Product of Array Except Self\n",
    "\n",
    "Given an integer array nums, return an array answer such that answer[i] is equal to the product of all the elements of nums except nums[i].\n",
    "\n",
    "The product of any prefix or suffix of nums is guaranteed to fit in a 32-bit integer.\n",
    "\n",
    "You must write an algorithm that runs in O(n) time and without using the division operation.\n",
    "\n",
    "Example 1:\n",
    "\n",
    "Input: nums = [1,2,3,4]\n",
    "Output: [24,12,8,6]\n",
    "Example 2:\n",
    "\n",
    "Input: nums = [-1,1,0,-3,3]\n",
    "Output: [0,0,9,0,0]"
   ]
  },
  {
   "cell_type": "code",
   "execution_count": 26,
   "metadata": {},
   "outputs": [],
   "source": [
    "def prodArr(arr):\n",
    "    n = len(arr)\n",
    "    result = [1]* n\n",
    "    prefix = 1\n",
    "    \n",
    "    for i in range(n):\n",
    "        result[i] = prefix\n",
    "        prefix*= arr[i]\n",
    "    postfix = 1\n",
    "    \n",
    "    for i in range(n-1, -1, -1):\n",
    "        result[i]*= postfix\n",
    "        postfix*= arr[i]\n",
    "    return result"
   ]
  },
  {
   "cell_type": "code",
   "execution_count": 27,
   "metadata": {},
   "outputs": [
    {
     "data": {
      "text/plain": [
       "[24, 12, 8, 6]"
      ]
     },
     "execution_count": 27,
     "metadata": {},
     "output_type": "execute_result"
    }
   ],
   "source": [
    " prodArr([1,2,3,4])"
   ]
  },
  {
   "cell_type": "code",
   "execution_count": null,
   "metadata": {},
   "outputs": [],
   "source": []
  },
  {
   "cell_type": "markdown",
   "metadata": {},
   "source": [
    "# 9) Climbing Stairs\n",
    "\n",
    "You are climbing a staircase. It takes n steps to reach the top.\n",
    "\n",
    "Each time you can either climb 1 or 2 steps. In how many distinct ways can you climb to the top?\n",
    "\n",
    " \n",
    "\n",
    "Example 1:\n",
    "\n",
    "Input: n = 2\n",
    "Output: 2\n",
    "Explanation: There are two ways to climb to the top.\n",
    "1. 1 step + 1 step\n",
    "2. 2 steps\n",
    "Example 2:\n",
    "\n",
    "Input: n = 3\n",
    "Output: 3\n",
    "Explanation: There are three ways to climb to the top.\n",
    "1. 1 step + 1 step + 1 step\n",
    "2. 1 step + 2 steps\n",
    "3. 2 steps + 1 step"
   ]
  },
  {
   "cell_type": "code",
   "execution_count": 28,
   "metadata": {},
   "outputs": [],
   "source": [
    "\n",
    "def climbStairs(n):\n",
    "    if n <= 3:\n",
    "        return n\n",
    "    stepn = 2\n",
    "    stepn1 = 3 \n",
    "    nextstep = 0\n",
    "    for i in range (4, n+1):\n",
    "        nextstep = stepn + stepn1\n",
    "        stepn = stepn1\n",
    "        stepn1 = nextstep\n",
    "    return nextstep\n"
   ]
  },
  {
   "cell_type": "code",
   "execution_count": 30,
   "metadata": {},
   "outputs": [
    {
     "data": {
      "text/plain": [
       "8"
      ]
     },
     "execution_count": 30,
     "metadata": {},
     "output_type": "execute_result"
    }
   ],
   "source": [
    "climbStairs(5)"
   ]
  },
  {
   "cell_type": "code",
   "execution_count": null,
   "metadata": {},
   "outputs": [],
   "source": []
  },
  {
   "cell_type": "markdown",
   "metadata": {},
   "source": [
    "# 10) . Longest Substring Without Repeating Characters\n",
    "\n",
    "Given a string s, find the length of the longest \n",
    "substring\n",
    " without repeating characters.\n",
    "\n",
    " \n",
    "\n",
    "Example 1:\n",
    "\n",
    "Input: s = \"abcabcbb\"\n",
    "Output: 3\n",
    "Explanation: The answer is \"abc\", with the length of 3.\n",
    "Example 2:\n",
    "\n",
    "Input: s = \"bbbbb\"\n",
    "Output: 1\n",
    "Explanation: The answer is \"b\", with the length of 1.\n",
    "Example 3:\n",
    "\n",
    "Input: s = \"pwwkew\"\n",
    "Output: 3\n",
    "Explanation: The answer is \"wke\", with the length of 3.\n",
    "Notice that the answer must be a substring, \"pwke\" is a subsequence and not a substring."
   ]
  },
  {
   "cell_type": "code",
   "execution_count": 35,
   "metadata": {},
   "outputs": [],
   "source": [
    "def lengthOfLongestSubstring(s):\n",
    "    charset = set()\n",
    "    l = 0\n",
    "    res = 0\n",
    "    for r in range(len(s)):\n",
    "        while s[r] in charset:\n",
    "            charset.remove(s[l])\n",
    "            l+=1\n",
    "        charset.add(s[r])\n",
    "        res = max(res, r-l+1)\n",
    "    return res"
   ]
  },
  {
   "cell_type": "code",
   "execution_count": 36,
   "metadata": {},
   "outputs": [
    {
     "data": {
      "text/plain": [
       "1"
      ]
     },
     "execution_count": 36,
     "metadata": {},
     "output_type": "execute_result"
    }
   ],
   "source": [
    "lengthOfLongestSubstring('bbbbbb')"
   ]
  },
  {
   "cell_type": "code",
   "execution_count": null,
   "metadata": {},
   "outputs": [],
   "source": []
  },
  {
   "cell_type": "markdown",
   "metadata": {},
   "source": [
    "# 11) Longest Repeating Character Replacement\n",
    "\n",
    "You are given a string s and an integer k. You can choose any character of the string and change it to any other uppercase English character. You can perform this operation at most k times.\n",
    "\n",
    "Return the length of the longest substring containing the same letter you can get after performing the above operations.\n",
    "\n",
    " \n",
    "\n",
    "Example 1:\n",
    "\n",
    "Input: s = \"ABAB\", k = 2\n",
    "Output: 4\n",
    "Explanation: Replace the two 'A's with two 'B's or vice versa.\n",
    "Example 2:\n",
    "\n",
    "Input: s = \"AABABBA\", k = 1\n",
    "Output: 4\n",
    "Explanation: Replace the one 'A' in the middle with 'B' and form \"AABBBBA\".\n",
    "The substring \"BBBB\" has the longest repeating letters, which is 4.\n",
    "There may exists other ways to achieve this answer too.\n",
    " "
   ]
  },
  {
   "cell_type": "code",
   "execution_count": 37,
   "metadata": {},
   "outputs": [],
   "source": [
    "def characterReplacement(s, k):\n",
    "    count = {}\n",
    "    maxchar = 0\n",
    "    l = 0\n",
    "    res = 0\n",
    "    \n",
    "    for r in range(len(s)):\n",
    "        if s[r] not in count:\n",
    "            count[s[r]] = 0\n",
    "        count[s[r]]+=1\n",
    "        \n",
    "        maxchar = max(maxchar, count[s[r]])\n",
    "        \n",
    "        while (r-l +1) - maxchar > k:\n",
    "            count[s[l]]-=1\n",
    "            l+=1\n",
    "        \n",
    "        res = max(res, r-l +1)\n",
    "        \n",
    "    return res\n",
    "    "
   ]
  },
  {
   "cell_type": "code",
   "execution_count": 38,
   "metadata": {},
   "outputs": [
    {
     "data": {
      "text/plain": [
       "4"
      ]
     },
     "execution_count": 38,
     "metadata": {},
     "output_type": "execute_result"
    }
   ],
   "source": [
    "s = \"ABAB\"\n",
    "k = 2 \n",
    "\n",
    "characterReplacement(s, k)"
   ]
  },
  {
   "cell_type": "code",
   "execution_count": null,
   "metadata": {},
   "outputs": [],
   "source": []
  },
  {
   "cell_type": "markdown",
   "metadata": {},
   "source": [
    "# 12) . Maximum Subarray\n",
    "\n",
    "Given an integer array nums, find the \n",
    "subarray\n",
    " with the largest sum, and return its sum.\n",
    "\n",
    " \n",
    "\n",
    "Example 1:\n",
    "\n",
    "Input: nums = [-2,1,-3,4,-1,2,1,-5,4]\n",
    "Output: 6\n",
    "Explanation: The subarray [4,-1,2,1] has the largest sum 6.\n",
    "Example 2:\n",
    "\n",
    "Input: nums = [1]\n",
    "Output: 1\n",
    "Explanation: The subarray [1] has the largest sum 1.\n",
    "Example 3:\n",
    "\n",
    "Input: nums = [5,4,-1,7,8]\n",
    "Output: 23\n",
    "Explanation: The subarray [5,4,-1,7,8] has the largest sum 23."
   ]
  },
  {
   "cell_type": "code",
   "execution_count": 39,
   "metadata": {},
   "outputs": [],
   "source": [
    "def maxSubarr(nums):\n",
    "    maxsum = float(\"-inf\")\n",
    "    currentsum = 0\n",
    "    \n",
    "    for n in nums:\n",
    "        if currentsum < 0:\n",
    "            currentsum = 0\n",
    "        currentsum+=n\n",
    "        maxsum = max(maxsum, currentsum)\n",
    "    return maxsum"
   ]
  },
  {
   "cell_type": "code",
   "execution_count": 40,
   "metadata": {},
   "outputs": [
    {
     "data": {
      "text/plain": [
       "6"
      ]
     },
     "execution_count": 40,
     "metadata": {},
     "output_type": "execute_result"
    }
   ],
   "source": [
    "nums = [-2,1,-3,4,-1,2,1,-5,4]\n",
    "maxSubarr(nums)"
   ]
  },
  {
   "cell_type": "code",
   "execution_count": null,
   "metadata": {},
   "outputs": [],
   "source": []
  },
  {
   "cell_type": "markdown",
   "metadata": {},
   "source": [
    "# 13) . Maximum Product Subarray\n",
    "\n",
    "Given an integer array nums, find a \n",
    "subarray\n",
    " that has the largest product, and return the product.\n",
    "\n",
    "The test cases are generated so that the answer will fit in a 32-bit integer.\n",
    "\n",
    " \n",
    "\n",
    "Example 1:\n",
    "\n",
    "Input: nums = [2,3,-2,4]\n",
    "Output: 6\n",
    "Explanation: [2,3] has the largest product 6.\n",
    "Example 2:\n",
    "\n",
    "Input: nums = [-2,0,-1]\n",
    "Output: 0\n",
    "Explanation: The result cannot be 2, because [-2,-1] is not a subarray.\n",
    " \n",
    "\n",
    "Constraints:\n",
    "\n",
    "1 <= nums.length <= 2 * 104\n",
    "-10 <= nums[i] <= 10\n",
    "The product of any prefix or suffix of nums is guaranteed to fit in a 32-bit integer."
   ]
  },
  {
   "cell_type": "code",
   "execution_count": 43,
   "metadata": {},
   "outputs": [],
   "source": [
    "def maxproduct(nums):\n",
    "    maxprod = float('-inf')\n",
    "    currentmax = 1\n",
    "    currentmin = 1\n",
    "    \n",
    "    for n in nums:\n",
    "        temp = n * currentmax\n",
    "        currentmax = max(n*currentmax, n*currentmin, n)\n",
    "        currentmin = min(temp, currentmin*n, n)\n",
    "        maxprod = max(maxprod, currentmax)\n",
    "    return maxprod"
   ]
  },
  {
   "cell_type": "code",
   "execution_count": 44,
   "metadata": {},
   "outputs": [
    {
     "data": {
      "text/plain": [
       "6"
      ]
     },
     "execution_count": 44,
     "metadata": {},
     "output_type": "execute_result"
    }
   ],
   "source": [
    "nums = [2,3,-2,4]\n",
    "maxproduct(nums)"
   ]
  },
  {
   "cell_type": "code",
   "execution_count": null,
   "metadata": {},
   "outputs": [],
   "source": []
  },
  {
   "cell_type": "markdown",
   "metadata": {},
   "source": [
    "# 14) Valid Anagram\n",
    "\n",
    "Given two strings s and t, return true if t is an anagram of s, and false otherwise.\n",
    "\n",
    "An Anagram is a word or phrase formed by rearranging the letters of a different word or phrase, typically using all the original letters exactly once.\n",
    "\n",
    " \n",
    "\n",
    "Example 1:\n",
    "\n",
    "Input: s = \"anagram\", t = \"nagaram\"\n",
    "Output: true\n",
    "Example 2:\n",
    "\n",
    "Input: s = \"rat\", t = \"car\"\n",
    "Output: false"
   ]
  },
  {
   "cell_type": "code",
   "execution_count": 51,
   "metadata": {},
   "outputs": [],
   "source": [
    "def validAnagram(s, t):\n",
    "    if len(s) != len(t):\n",
    "        return False\n",
    "    \n",
    "    char_dic = {}\n",
    "    \n",
    "    for char in s:\n",
    "        if char not in char_dic:\n",
    "            char_dic[char] = 0\n",
    "        char_dic[char]+=1\n",
    "    \n",
    "    for char in t:\n",
    "        if char in char_dic:\n",
    "            char_dic[char]-=1\n",
    "        else:\n",
    "            char_dic[char] = 1\n",
    "        \n",
    "        if char_dic[char] == 0:\n",
    "            del char_dic[char]\n",
    "            \n",
    "    return len(char_dic) == 0\n",
    "        "
   ]
  },
  {
   "cell_type": "code",
   "execution_count": 52,
   "metadata": {},
   "outputs": [
    {
     "data": {
      "text/plain": [
       "True"
      ]
     },
     "execution_count": 52,
     "metadata": {},
     "output_type": "execute_result"
    }
   ],
   "source": [
    "s = \"anagram\"\n",
    "t = \"nagaram\"\n",
    "# s = \"rat\"\n",
    "# t = \"car\"\n",
    "\n",
    "validAnagram(s, t)"
   ]
  },
  {
   "cell_type": "code",
   "execution_count": null,
   "metadata": {},
   "outputs": [],
   "source": []
  },
  {
   "cell_type": "markdown",
   "metadata": {},
   "source": [
    "# 15) Group Anagrams\n",
    "\n",
    "Given an array of strings strs, group the anagrams together. You can return the answer in any order.\n",
    "\n",
    "An Anagram is a word or phrase formed by rearranging the letters of a different word or phrase, typically using all the original letters exactly once.\n",
    "\n",
    " \n",
    "\n",
    "Example 1:\n",
    "\n",
    "Input: strs = [\"eat\",\"tea\",\"tan\",\"ate\",\"nat\",\"bat\"]\n",
    "Output: [[\"bat\"],[\"nat\",\"tan\"],[\"ate\",\"eat\",\"tea\"]]\n",
    "\n",
    "Example 2:\n",
    "\n",
    "Input: strs = [\"\"]\n",
    "Output: [[\"\"]]\n",
    "\n",
    "Example 3:\n",
    "\n",
    "Input: strs = [\"a\"]\n",
    "Output: [[\"a\"]]"
   ]
  },
  {
   "cell_type": "code",
   "execution_count": 53,
   "metadata": {},
   "outputs": [],
   "source": [
    "def groupAnagrams(strs):\n",
    "    res = {}\n",
    "    \n",
    "    for s in strs:\n",
    "        count = [0]*26\n",
    "        for c in s:\n",
    "            count[ord(c) - ord(\"a\")]+=1\n",
    "        key = tuple(count)\n",
    "        if key in res:\n",
    "            res[key].append(s)\n",
    "        else:\n",
    "            res[key] = [s]\n",
    "    return res.values()"
   ]
  },
  {
   "cell_type": "code",
   "execution_count": 54,
   "metadata": {},
   "outputs": [
    {
     "data": {
      "text/plain": [
       "dict_values([['eat', 'tea', 'ate'], ['tan', 'nat'], ['bat']])"
      ]
     },
     "execution_count": 54,
     "metadata": {},
     "output_type": "execute_result"
    }
   ],
   "source": [
    "strs = [\"eat\",\"tea\",\"tan\",\"ate\",\"nat\",\"bat\"]\n",
    "groupAnagrams(strs)"
   ]
  },
  {
   "cell_type": "code",
   "execution_count": null,
   "metadata": {},
   "outputs": [],
   "source": []
  },
  {
   "cell_type": "markdown",
   "metadata": {},
   "source": [
    "# 16) . Find Minimum in Rotated Sorted Array\n",
    "\n",
    "\n",
    "Suppose an array of length n sorted in ascending order is rotated between 1 and n times. For example, the array nums = [0,1,2,4,5,6,7] might become:\n",
    "\n",
    "[4,5,6,7,0,1,2] if it was rotated 4 times.\n",
    "[0,1,2,4,5,6,7] if it was rotated 7 times.\n",
    "Notice that rotating an array [a[0], a[1], a[2], ..., a[n-1]] 1 time results in the array [a[n-1], a[0], a[1], a[2], ..., a[n-2]].\n",
    "\n",
    "Given the sorted rotated array nums of unique elements, return the minimum element of this array.\n",
    "\n",
    "You must write an algorithm that runs in O(log n) time.\n",
    "\n",
    " \n",
    "\n",
    "Example 1:\n",
    "\n",
    "Input: nums = [3,4,5,1,2]\n",
    "Output: 1\n",
    "Explanation: The original array was [1,2,3,4,5] rotated 3 times.\n",
    "\n",
    "Example 2:\n",
    "\n",
    "Input: nums = [4,5,6,7,0,1,2]\n",
    "Output: 0\n",
    "Explanation: The original array was [0,1,2,4,5,6,7] and it was rotated 4 times.\n",
    "\n",
    "Example 3:\n",
    "\n",
    "Input: nums = [11,13,15,17]\n",
    "Output: 11\n",
    "Explanation: The original array was [11,13,15,17] and it was rotated 4 times. \n",
    " "
   ]
  },
  {
   "cell_type": "code",
   "execution_count": 55,
   "metadata": {},
   "outputs": [],
   "source": [
    "def findMin(nums):\n",
    "    res = nums[0]\n",
    "    l =0\n",
    "    r = len(nums)-1\n",
    "    while l <=r:\n",
    "        if nums[l] < nums[r]:\n",
    "            res = min(res, nums[l])\n",
    "            break\n",
    "        mid = (l+r)//2\n",
    "        res = min(res, nums[mid])\n",
    "        if nums[mid] >= nums[l]:\n",
    "            l = mid+1\n",
    "        else:\n",
    "            r = mid-1\n",
    "    return res"
   ]
  },
  {
   "cell_type": "code",
   "execution_count": 57,
   "metadata": {},
   "outputs": [
    {
     "data": {
      "text/plain": [
       "0"
      ]
     },
     "execution_count": 57,
     "metadata": {},
     "output_type": "execute_result"
    }
   ],
   "source": [
    "nums = [4,5,6,7,0,1,2]\n",
    "findMin(nums)\n"
   ]
  },
  {
   "cell_type": "code",
   "execution_count": null,
   "metadata": {},
   "outputs": [],
   "source": []
  },
  {
   "cell_type": "markdown",
   "metadata": {},
   "source": [
    "# 17) Search in Rotated Sorted Array\n",
    "\n",
    "There is an integer array nums sorted in ascending order (with distinct values).\n",
    "\n",
    "Prior to being passed to your function, nums is possibly rotated at an unknown pivot index k (1 <= k < nums.length) such that the resulting array is [nums[k], nums[k+1], ..., nums[n-1], nums[0], nums[1], ..., nums[k-1]] (0-indexed). For example, [0,1,2,4,5,6,7] might be rotated at pivot index 3 and become [4,5,6,7,0,1,2].\n",
    "\n",
    "Given the array nums after the possible rotation and an integer target, return the index of target if it is in nums, or -1 if it is not in nums.\n",
    "\n",
    "You must write an algorithm with O(log n) runtime complexity.\n",
    "\n",
    " \n",
    "\n",
    "Example 1:\n",
    "\n",
    "Input: nums = [4,5,6,7,0,1,2], target = 0\n",
    "Output: 4\n",
    "Example 2:\n",
    "\n",
    "Input: nums = [4,5,6,7,0,1,2], target = 3\n",
    "Output: -1\n",
    "Example 3:\n",
    "\n",
    "Input: nums = [1], target = 0\n",
    "Output: -1"
   ]
  },
  {
   "cell_type": "code",
   "execution_count": 60,
   "metadata": {},
   "outputs": [],
   "source": [
    "def findNum(nums, target):\n",
    "    l = 0\n",
    "    r = len(nums)-1\n",
    "    \n",
    "    while l <= r:\n",
    "        mid = (l+r)// 2\n",
    "        if nums[mid] == target:\n",
    "            return nums.index(target)\n",
    "        if nums[mid] >= nums[l]:\n",
    "            if target > nums[mid] or target < nums[l]:\n",
    "                l = mid+1\n",
    "            else:\n",
    "                r = mid-1\n",
    "        else:\n",
    "            if target < nums[mid] or target > nums[r]:\n",
    "                r = mid-1\n",
    "            else:\n",
    "                l = mid+1\n",
    "    return -1"
   ]
  },
  {
   "cell_type": "code",
   "execution_count": 62,
   "metadata": {},
   "outputs": [
    {
     "data": {
      "text/plain": [
       "-1"
      ]
     },
     "execution_count": 62,
     "metadata": {},
     "output_type": "execute_result"
    }
   ],
   "source": [
    "[4,5,6,7,0,1,2]\n",
    "target = 3\n",
    "findNum(nums, target)"
   ]
  },
  {
   "cell_type": "code",
   "execution_count": null,
   "metadata": {},
   "outputs": [],
   "source": []
  },
  {
   "cell_type": "markdown",
   "metadata": {},
   "source": [
    "# 18) 3 Sum\n",
    "\n",
    "Given an integer array nums, return all the triplets [nums[i], nums[j], nums[k]] such that i != j, i != k, and j != k, and nums[i] + nums[j] + nums[k] == 0.\n",
    "\n",
    "Notice that the solution set must not contain duplicate triplets.\n",
    "\n",
    " \n",
    "\n",
    "Example 1:\n",
    "\n",
    "Input: nums = [-1,0,1,2,-1,-4]\n",
    "Output: [[-1,-1,2],[-1,0,1]]\n",
    "Explanation: \n",
    "nums[0] + nums[1] + nums[2] = (-1) + 0 + 1 = 0.\n",
    "nums[1] + nums[2] + nums[4] = 0 + 1 + (-1) = 0.\n",
    "nums[0] + nums[3] + nums[4] = (-1) + 2 + (-1) = 0.\n",
    "The distinct triplets are [-1,0,1] and [-1,-1,2].\n",
    "Notice that the order of the output and the order of the triplets does not matter.\n",
    "Example 2:\n",
    "\n",
    "Input: nums = [0,1,1]\n",
    "Output: []\n",
    "Explanation: The only possible triplet does not sum up to 0.\n",
    "Example 3:\n",
    "\n",
    "Input: nums = [0,0,0]\n",
    "Output: [[0,0,0]]\n",
    "Explanation: The only possible triplet sums up to 0."
   ]
  },
  {
   "cell_type": "code",
   "execution_count": 69,
   "metadata": {},
   "outputs": [],
   "source": [
    "def threeSum(nums):\n",
    "    res = set()\n",
    "    nums.sort()\n",
    "    for i in range(len(nums)):\n",
    "        l = i+1\n",
    "        r = len(nums)-1\n",
    "        while l < r:\n",
    "            if nums[i] + nums[l] + nums[r] == 0:\n",
    "                res.add((nums[i],nums[l],nums[r]))\n",
    "                l+=1\n",
    "                r-=1\n",
    "            elif nums[i] + nums[l] + nums[r] > 0:\n",
    "                r-=1\n",
    "            else:\n",
    "                l+=1\n",
    "    return list(res)"
   ]
  },
  {
   "cell_type": "code",
   "execution_count": 70,
   "metadata": {},
   "outputs": [
    {
     "data": {
      "text/plain": [
       "[(-1, -1, 2), (-1, 0, 1)]"
      ]
     },
     "execution_count": 70,
     "metadata": {},
     "output_type": "execute_result"
    }
   ],
   "source": [
    "nums = [-1,0,1,2,-1,-4] \n",
    "threeSum(nums)"
   ]
  },
  {
   "cell_type": "code",
   "execution_count": null,
   "metadata": {},
   "outputs": [],
   "source": []
  },
  {
   "attachments": {
    "image.png": {
     "image/png": "[encoded data removed]"
    }
   },
   "cell_type": "markdown",
   "metadata": {},
   "source": [
    "# 19) Container With Most Water\n",
    "\n",
    "You are given an integer array height of length n. There are n vertical lines drawn such that the two endpoints of the ith line are (i, 0) and (i, height[i]).\n",
    "\n",
    "Find two lines that together with the x-axis form a container, such that the container contains the most water.\n",
    "\n",
    "Return the maximum amount of water a container can store.\n",
    "\n",
    "Notice that you may not slant the container.\n",
    "\n",
    " \n",
    "\n",
    "Example 1:\n",
    "\n",
    "![image.png](attachment:image.png)\n",
    "\n",
    "Input: height = [1,8,6,2,5,4,8,3,7]\n",
    "Output: 49\n",
    "Explanation: The above vertical lines are represented by array [1,8,6,2,5,4,8,3,7]. In this case, the max area of water (blue section) the container can contain is 49.\n",
    "Example 2:\n",
    "\n",
    "Input: height = [1,1]\n",
    "Output: 1"
   ]
  },
  {
   "cell_type": "code",
   "execution_count": 71,
   "metadata": {},
   "outputs": [],
   "source": [
    "def maxArea(height):\n",
    "    max_area = float(\"-inf\")\n",
    "    l = 0\n",
    "    r = len(height) - 1\n",
    "  \n",
    "    while l < r:\n",
    "        h = min(height[l], height[r])\n",
    "        w = r - l\n",
    "        max_area = max(max_area, h*w)\n",
    "        if height[l] < height[r]:\n",
    "            l+=1\n",
    "        else:\n",
    "            r-=1\n",
    "    return max_area"
   ]
  },
  {
   "cell_type": "code",
   "execution_count": 73,
   "metadata": {},
   "outputs": [
    {
     "data": {
      "text/plain": [
       "1"
      ]
     },
     "execution_count": 73,
     "metadata": {},
     "output_type": "execute_result"
    }
   ],
   "source": [
    "height = [1,8,6,2,5,4,8,3,7]\n",
    "height = [1,1] \n",
    "maxArea(height)"
   ]
  },
  {
   "cell_type": "code",
   "execution_count": null,
   "metadata": {},
   "outputs": [],
   "source": []
  },
  {
   "cell_type": "markdown",
   "metadata": {},
   "source": [
    "# 20) Insert Intervals\n",
    "\n",
    "You are given an array of non-overlapping intervals intervals where intervals[i] = [starti, endi] represent the start and the end of the ith interval and intervals is sorted in ascending order by starti. You are also given an interval newInterval = [start, end] that represents the start and end of another interval.\n",
    "\n",
    "Insert newInterval into intervals such that intervals is still sorted in ascending order by starti and intervals still does not have any overlapping intervals (merge overlapping intervals if necessary).\n",
    "\n",
    "Return intervals after the insertion.\n",
    "\n",
    " \n",
    "\n",
    "Example 1:\n",
    "\n",
    "Input: intervals = [[1,3],[6,9]], newInterval = [2,5]\n",
    "Output: [[1,5],[6,9]]\n",
    "Example 2:\n",
    "\n",
    "Input: intervals = [[1,2],[3,5],[6,7],[8,10],[12,16]], newInterval = [4,8]\n",
    "Output: [[1,2],[3,10],[12,16]]\n",
    "Explanation: Because the new interval [4,8] overlaps with [3,5],[6,7],[8,10]."
   ]
  },
  {
   "cell_type": "code",
   "execution_count": 78,
   "metadata": {},
   "outputs": [],
   "source": [
    "def insertIntervals(intervals, newIntervals):\n",
    "    res = []\n",
    "    i = 0\n",
    "    \n",
    "    while i < len(intervals) and intervals[i][1] < newIntervals[0]:\n",
    "        res.append(intervals[i])\n",
    "        i+=1\n",
    "    \n",
    "    while i < len(intervals) and intervals[i][0] <= newIntervals[1]:\n",
    "        newIntervals[0] = min(intervals[i][0], newIntervals[0])\n",
    "        newIntervals[1] = max(intervals[i][1], newIntervals[1])\n",
    "        res.append(newIntervals)\n",
    "        i+=1\n",
    "        \n",
    "    while i < len(intervals):\n",
    "        res.append(intervals[i])\n",
    "        i+=1\n",
    "    \n",
    "    return res"
   ]
  },
  {
   "cell_type": "code",
   "execution_count": 79,
   "metadata": {},
   "outputs": [
    {
     "data": {
      "text/plain": [
       "[[1, 5], [6, 9]]"
      ]
     },
     "execution_count": 79,
     "metadata": {},
     "output_type": "execute_result"
    }
   ],
   "source": [
    "intervals = [[1,3],[6,9]] \n",
    "newIntervals = [2,5]\n",
    "\n",
    "insertIntervals(intervals, newIntervals)"
   ]
  },
  {
   "cell_type": "code",
   "execution_count": null,
   "metadata": {},
   "outputs": [],
   "source": []
  },
  {
   "cell_type": "markdown",
   "metadata": {},
   "source": [
    "# 21) Valid Parenthesis\n",
    "\n",
    "Given a string s containing just the characters '(', ')', '{', '}', '[' and ']', determine if the input string is valid.\n",
    "\n",
    "An input string is valid if:\n",
    "\n",
    "Open brackets must be closed by the same type of brackets.\n",
    "Open brackets must be closed in the correct order.\n",
    "Every close bracket has a corresponding open bracket of the same type.\n",
    " \n",
    "\n",
    "Example 1:\n",
    "\n",
    "Input: s = \"()\"\n",
    "Output: true\n",
    "Example 2:\n",
    "\n",
    "Input: s = \"()[]{}\"\n",
    "Output: true\n",
    "Example 3:\n",
    "\n",
    "Input: s = \"(]\"\n",
    "Output: false"
   ]
  },
  {
   "cell_type": "code",
   "execution_count": 80,
   "metadata": {},
   "outputs": [],
   "source": [
    "def validParenthesis(s):\n",
    "    dic = {\")\": \"(\", \"}\": \"{\", \"]\":\"[\" }\n",
    "    if len(s) % 2 > 0:\n",
    "        return False\n",
    "    if s[0] in dic:\n",
    "        return False\n",
    "    stack = []\n",
    "    for i in s:\n",
    "        if i not in dic:\n",
    "            stack.append(i)\n",
    "        elif stack:\n",
    "            ans = stack.pop()\n",
    "            if ans != dic[i]:\n",
    "                return False \n",
    "        elif not stack:\n",
    "            return False \n",
    "\n",
    "    return len(stack) == 0\n"
   ]
  },
  {
   "cell_type": "code",
   "execution_count": 85,
   "metadata": {},
   "outputs": [
    {
     "data": {
      "text/plain": [
       "False"
      ]
     },
     "execution_count": 85,
     "metadata": {},
     "output_type": "execute_result"
    }
   ],
   "source": [
    "s = \"()))\" \n",
    "\n",
    "validParenthesis(s)    \n"
   ]
  },
  {
   "cell_type": "markdown",
   "metadata": {},
   "source": []
  },
  {
   "cell_type": "markdown",
   "metadata": {},
   "source": [
    "# 22) Reverse Polish Notation"
   ]
  },
  {
   "cell_type": "code",
   "execution_count": 11,
   "metadata": {},
   "outputs": [],
   "source": [
    "def expr(expression):\n",
    "    lis = []\n",
    "    for i in range (len(expression)-1, -1, -1):\n",
    "        if expression[i] not in \"*+-/\": \n",
    "            lis.append(int(expression[i])) \n",
    "            print(lis)\n",
    "        else: \n",
    "            l = lis.pop()\n",
    "            r = lis.pop()\n",
    "            if expression[i] == \"*\":\n",
    "                lis.append(l*r)\n",
    "            elif expression[i] == '+':\n",
    "                lis.append(l+r)\n",
    "            elif expression[i] == '-':\n",
    "                lis.append(l-r)\n",
    "            else:\n",
    "                lis.append(int(float(l/r)))\n",
    "    return lis"
   ]
  },
  {
   "cell_type": "code",
   "execution_count": 14,
   "metadata": {},
   "outputs": [
    {
     "name": "stdout",
     "output_type": "stream",
     "text": [
      "[2]\n",
      "[2, 5]\n",
      "[7, 4]\n",
      "[7, 4, 3]\n"
     ]
    },
    {
     "data": {
      "text/plain": [
       "[0]"
      ]
     },
     "execution_count": 14,
     "metadata": {},
     "output_type": "execute_result"
    }
   ],
   "source": [
    "s = \"/-34+52\"\n",
    "len(s)\n",
    "expr(s)"
   ]
  },
  {
   "cell_type": "code",
   "execution_count": null,
   "metadata": {},
   "outputs": [],
   "source": []
  },
  {
   "cell_type": "markdown",
   "metadata": {},
   "source": [
    "# 23) Sort Integers by The Number of 1 Bits\n",
    "\n",
    "You are given an integer array arr. Sort the integers in the array in ascending order by the number of 1's in their binary representation and in case of two or more integers have the same number of 1's you have to sort them in ascending order.\n",
    "\n",
    "Return the array after sorting it.\n",
    "\n",
    " \n",
    "\n",
    "Example 1:\n",
    "\n",
    "Input: arr = [0,1,2,3,4,5,6,7,8]\n",
    "Output: [0,1,2,4,8,3,5,6,7]\n",
    "Explantion: [0] is the only integer with 0 bits.\n",
    "[1,2,4,8] all have 1 bit.\n",
    "[3,5,6] have 2 bits.\n",
    "[7] has 3 bits.\n",
    "The sorted array by bits is [0,1,2,4,8,3,5,6,7]\n",
    "Example 2:\n",
    "\n",
    "Input: arr = [1024,512,256,128,64,32,16,8,4,2,1]\n",
    "Output: [1,2,4,8,16,32,64,128,256,512,1024]\n",
    "Explantion: All integers have 1 bit in the binary representation, you should just sort them in ascending order."
   ]
  },
  {
   "cell_type": "code",
   "execution_count": 5,
   "metadata": {},
   "outputs": [],
   "source": [
    "def sortIntegerByOne(arr):\n",
    "    dic = {}\n",
    "    for val in arr:\n",
    "        dic[val] = getOnes(val)\n",
    "    return sorted(arr, key=lambda x: (dic[x], x))\n",
    "\n",
    "def getOnes(val):\n",
    "    count = 0\n",
    "    while val > 0:\n",
    "        if val % 2 == 1:\n",
    "            count+=1\n",
    "        val//=2\n",
    "    return count"
   ]
  },
  {
   "cell_type": "code",
   "execution_count": 6,
   "metadata": {},
   "outputs": [
    {
     "data": {
      "text/plain": [
       "[1, 2, 4, 8, 16, 32, 64, 128, 256, 512, 1024]"
      ]
     },
     "execution_count": 6,
     "metadata": {},
     "output_type": "execute_result"
    }
   ],
   "source": [
    "arr = [1024,512,256,128,64,32,16,8,4,2,1] \n",
    "sortIntegerByOne(arr)"
   ]
  },
  {
   "cell_type": "code",
   "execution_count": null,
   "metadata": {},
   "outputs": [],
   "source": []
  },
  {
   "cell_type": "markdown",
   "metadata": {},
   "source": [
    "# 24) Median of Two Sorted Arrays\n",
    "\n",
    "\n",
    "Given two sorted arrays nums1 and nums2 of size m and n respectively, return the median of the two sorted arrays.\n",
    "\n",
    "The overall run time complexity should be O(log (m+n)).\n",
    "\n",
    " \n",
    "\n",
    "Example 1:\n",
    "\n",
    "Input: nums1 = [1,3], nums2 = [2]\n",
    "Output: 2.00000\n",
    "Explanation: merged array = [1,2,3] and median is 2.\n",
    "Example 2:\n",
    "\n",
    "Input: nums1 = [1,2], nums2 = [3,4]\n",
    "Output: 2.50000\n",
    "Explanation: merged array = [1,2,3,4] and median is (2 + 3) / 2 = 2.5."
   ]
  },
  {
   "cell_type": "code",
   "execution_count": 43,
   "metadata": {},
   "outputs": [],
   "source": [
    "# O(m+n)\n",
    "def median(num1, num2):\n",
    "    i = 0\n",
    "    j = 0\n",
    "    res = []\n",
    "    while i < len(nums1) and j < len(nums2):\n",
    "        if nums1[i] <= nums2[j]:\n",
    "            res.append(nums1[i])\n",
    "            i+=1\n",
    "        else:\n",
    "            res.append(nums2[j])\n",
    "            j+=1\n",
    "    while i < len(nums1):\n",
    "        res.append(nums1[i])\n",
    "        i+=1\n",
    "    while j < len(nums2):\n",
    "        res.append(nums2[j])\n",
    "        j+=1\n",
    "    mid = len(res)//2\n",
    "    print(res)\n",
    "    if len(res) %2 ==1:\n",
    "        return res[mid]\n",
    "    return (res[mid] + res[mid-1])/2\n"
   ]
  },
  {
   "cell_type": "code",
   "execution_count": 44,
   "metadata": {},
   "outputs": [
    {
     "name": "stdout",
     "output_type": "stream",
     "text": [
      "[1, 2, 3, 4]\n"
     ]
    },
    {
     "data": {
      "text/plain": [
       "2.5"
      ]
     },
     "execution_count": 44,
     "metadata": {},
     "output_type": "execute_result"
    }
   ],
   "source": [
    "nums1 = [1,2] \n",
    "nums2 = [3,4] \n",
    "median(nums1, nums2)"
   ]
  },
  {
   "cell_type": "code",
   "execution_count": null,
   "metadata": {},
   "outputs": [],
   "source": []
  },
  {
   "cell_type": "code",
   "execution_count": 45,
   "metadata": {},
   "outputs": [],
   "source": [
    "# Olog(m+n)\n",
    "def median2(nums1, nums2):\n",
    "    A, B = nums1, nums2\n",
    "    length = len(nums1) + len(nums2)\n",
    "    half = length//2\n",
    "    \n",
    "    if len(A) > len(B):\n",
    "        A, B = B, A\n",
    "    l, r = 0, len(A)-1\n",
    "    \n",
    "    while True:\n",
    "        i = (l+r)//2\n",
    "        j = half - i - 2\n",
    "        \n",
    "        Aleft = A[i] if i >= 0 else float(\"-inf\")\n",
    "        Aright = A[i+1] if (i+1) < len(A) else float(\"inf\")\n",
    "        Bleft = B[j] if j >= 0 else float(\"-inf\")\n",
    "        Bright = B[j+1] if (j+1) < len(B) else float(\"inf\")\n",
    "        \n",
    "        if Aleft <= Bright and Bleft <= Aright:\n",
    "            if length % 2:\n",
    "                return min(Aright, Bright)\n",
    "            else:\n",
    "                return(min(Aright, Bright) + max(Aleft, Bleft))/2\n",
    "        elif Aleft > Bright:\n",
    "            r = i-1\n",
    "        else:\n",
    "            l = i+1\n",
    "            \n",
    "            "
   ]
  },
  {
   "cell_type": "code",
   "execution_count": 46,
   "metadata": {},
   "outputs": [
    {
     "data": {
      "text/plain": [
       "2.5"
      ]
     },
     "execution_count": 46,
     "metadata": {},
     "output_type": "execute_result"
    }
   ],
   "source": [
    "nums1 = [1,2] \n",
    "nums2 = [3,4] \n",
    "median2(nums1, nums2)"
   ]
  },
  {
   "cell_type": "code",
   "execution_count": null,
   "metadata": {},
   "outputs": [],
   "source": []
  },
  {
   "cell_type": "markdown",
   "metadata": {},
   "source": [
    "# 25) First Unique Character in String\n",
    "\n",
    "Given a string s, find the first non-repeating character in it and return its index. If it does not exist, return -1.\n",
    "\n",
    " \n",
    "\n",
    "Example 1:\n",
    "\n",
    "Input: s = \"leetcode\"\n",
    "Output: 0\n",
    "Example 2:\n",
    "\n",
    "Input: s = \"loveleetcode\"\n",
    "Output: 2\n",
    "Example 3:\n",
    "\n",
    "Input: s = \"aabb\"\n",
    "Output: -1\n",
    " \n",
    "\n",
    "Constraints:\n",
    "\n",
    "1 <= s.length <= 105\n",
    "s consists of only lowercase English letters."
   ]
  },
  {
   "cell_type": "code",
   "execution_count": 47,
   "metadata": {},
   "outputs": [],
   "source": [
    "import string\n",
    "\n",
    "def firstUniqueChar(s):\n",
    "    letters = string.ascii_lowercase\n",
    "    index = float(\"inf\")\n",
    "    for i in letters:\n",
    "        if s.count(i) == 1:\n",
    "            index = min(index, s.index(i))\n",
    "    if index == float(\"inf\"):\n",
    "        return -1\n",
    "    return index"
   ]
  },
  {
   "cell_type": "code",
   "execution_count": 48,
   "metadata": {},
   "outputs": [
    {
     "data": {
      "text/plain": [
       "0"
      ]
     },
     "execution_count": 48,
     "metadata": {},
     "output_type": "execute_result"
    }
   ],
   "source": [
    "s = \"leetcode\"\n",
    "firstUniqueChar(s)"
   ]
  },
  {
   "cell_type": "code",
   "execution_count": null,
   "metadata": {},
   "outputs": [],
   "source": []
  },
  {
   "cell_type": "markdown",
   "metadata": {},
   "source": [
    "# 26)  Minimum Size Subarray Sum\n",
    "\n",
    "Given an array of positive integers nums and a positive integer target, return the minimal length of a \n",
    "subarray\n",
    " whose sum is greater than or equal to target. If there is no such subarray, return 0 instead.\n",
    "\n",
    " \n",
    "\n",
    "Example 1:\n",
    "\n",
    "Input: target = 7, nums = [2,3,1,2,4,3]\n",
    "Output: 2\n",
    "Explanation: The subarray [4,3] has the minimal length under the problem constraint.\n",
    "Example 2:\n",
    "\n",
    "Input: target = 4, nums = [1,4,4]\n",
    "Output: 1\n",
    "Example 3:\n",
    "\n",
    "Input: target = 11, nums = [1,1,1,1,1,1,1,1]\n",
    "Output: 0\n",
    " \n",
    "\n",
    "Constraints:\n",
    "\n",
    "1 <= target <= 109\n",
    "1 <= nums.length <= 105\n",
    "1 <= nums[i] <= 104"
   ]
  },
  {
   "cell_type": "code",
   "execution_count": null,
   "metadata": {},
   "outputs": [],
   "source": [
    "def minSizeSubSum(nums, target):\n",
    "    min_length = float(\"inf\")\n",
    "    l = 0\n",
    "    tar = 0\n",
    "    for r in range(len(nums)):\n",
    "        tar+=nums[r]\n",
    "        while tar >= target:\n",
    "            min_length = min(min_length, (r-l + 1))\n",
    "            tar-=nums[l]\n",
    "            l+=1\n",
    "    if min_length == float(\"inf\"):\n",
    "        return "
   ]
  },
  {
   "cell_type": "code",
   "execution_count": null,
   "metadata": {},
   "outputs": [],
   "source": []
  },
  {
   "cell_type": "code",
   "execution_count": null,
   "metadata": {},
   "outputs": [],
   "source": []
  },
  {
   "cell_type": "code",
   "execution_count": null,
   "metadata": {},
   "outputs": [],
   "source": []
  },
  {
   "cell_type": "code",
   "execution_count": null,
   "metadata": {},
   "outputs": [],
   "source": []
  },
  {
   "cell_type": "code",
   "execution_count": null,
   "metadata": {},
   "outputs": [],
   "source": []
  },
  {
   "cell_type": "code",
   "execution_count": null,
   "metadata": {},
   "outputs": [],
   "source": []
  },
  {
   "cell_type": "code",
   "execution_count": null,
   "metadata": {},
   "outputs": [],
   "source": []
  },
  {
   "cell_type": "code",
   "execution_count": null,
   "metadata": {},
   "outputs": [],
   "source": []
  },
  {
   "cell_type": "code",
   "execution_count": null,
   "metadata": {},
   "outputs": [],
   "source": []
  },
  {
   "cell_type": "code",
   "execution_count": null,
   "metadata": {},
   "outputs": [],
   "source": []
  }
 ],
 "metadata": {
  "kernelspec": {
   "display_name": "Python 3",
   "language": "python",
   "name": "python3"
  },
  "language_info": {
   "codemirror_mode": {
    "name": "ipython",
    "version": 3
   },
   "file_extension": ".py",
   "mimetype": "text/x-python",
   "name": "python",
   "nbconvert_exporter": "python",
   "pygments_lexer": "ipython3",
   "version": "3.7.7"
  }
 },
 "nbformat": 4,
 "nbformat_minor": 4
}
